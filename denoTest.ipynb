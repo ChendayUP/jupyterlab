{
 "cells": [
  {
   "cell_type": "code",
   "execution_count": 1,
   "id": "919f1ab0-8323-4a72-a480-7f60d47555e9",
   "metadata": {},
   "outputs": [
    {
     "data": {
      "text/plain": [
       "[Module: null prototype] { default: {} }"
      ]
     },
     "execution_count": 1,
     "metadata": {},
     "output_type": "execute_result"
    }
   ],
   "source": [
    "import \"dotenv/config\";"
   ]
  },
  {
   "cell_type": "code",
   "execution_count": 2,
   "id": "8c906be7-5994-4314-9dcc-865938517975",
   "metadata": {},
   "outputs": [],
   "source": [
    "// console.log(Deno.env.get(\"HOST\")); // 输出 \"127.0.0.1\"\n",
    "// console.log(Deno.env.get(\"PORT\")); // 输出 \"127.0.0.1\""
   ]
  },
  {
   "cell_type": "code",
   "execution_count": 10,
   "id": "1eb74ed5-07f4-4fc9-b0cc-ea66952bfd9f",
   "metadata": {},
   "outputs": [],
   "source": [
    "import { ChatOpenAI } from \"@langchain/openai\";\n",
    "import { HumanMessage } from \"@langchain/core/messages\";"
   ]
  },
  {
   "cell_type": "code",
   "execution_count": 12,
   "id": "97c8e543-c733-4610-92a5-ef7a4efa7dbe",
   "metadata": {},
   "outputs": [
    {
     "ename": "Error",
     "evalue": "Connection error.",
     "output_type": "error",
     "traceback": [
      "Stack trace:",
      "Error: Connection error.",
      "    at OpenAI.makeRequest (file:///Users/godlikeonline/Library/Caches/deno/npm/registry.npmjs.org/openai/4.40.0/core.mjs:285:19)",
      "    at eventLoopTick (ext:core/01_core.js:168:7)",
      "    at async file:///Users/godlikeonline/Library/Caches/deno/npm/registry.npmjs.org/@langchain/openai/0.0.10/dist/chat_models.js:628:29",
      "    at async RetryOperation._fn (file:///Users/godlikeonline/Library/Caches/deno/npm/registry.npmjs.org/p-retry/4.6.2/index.js:50:12)"
     ]
    }
   ],
   "source": [
    "const model = new ChatOpenAI({\n",
    "    modelName: \"text-ada-001\"\n",
    "});\n",
    "\n",
    "const res = await model.invoke([\n",
    "    new HumanMessage(\"怎么评价人工智能\")\n",
    "]);\n",
    "console.log(res)"
   ]
  },
  {
   "cell_type": "code",
   "execution_count": null,
   "id": "2c2b429a-48af-44ad-8154-19ce2713519c",
   "metadata": {},
   "outputs": [],
   "source": []
  }
 ],
 "metadata": {
  "kernelspec": {
   "display_name": "Deno",
   "language": "typescript",
   "name": "deno"
  },
  "language_info": {
   "file_extension": ".ts",
   "mimetype": "text/x.typescript",
   "name": "typescript",
   "nb_converter": "script",
   "pygments_lexer": "typescript",
   "version": "5.4.3"
  }
 },
 "nbformat": 4,
 "nbformat_minor": 5
}
