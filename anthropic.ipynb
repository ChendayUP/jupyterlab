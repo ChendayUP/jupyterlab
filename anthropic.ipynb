{
 "cells": [
  {
   "cell_type": "code",
   "execution_count": 2,
   "id": "b1d3c814-cef7-4f24-b76e-f202e38f2d03",
   "metadata": {},
   "outputs": [
    {
     "ename": "Error",
     "evalue": "400 {\"type\":\"error\",\"error\":{\"type\":\"invalid_request_error\",\"message\":\"Your credit balance is too low to access the Claude API. Please go to Plans & Billing to upgrade or purchase credits.\"}}",
     "output_type": "error",
     "traceback": [
      "Stack trace:",
      "Error: 400 {\"type\":\"error\",\"error\":{\"type\":\"invalid_request_error\",\"message\":\"Your credit balance is too low to access the Claude API. Please go to Plans & Billing to upgrade or purchase credits.\"}}",
      "    at Function.generate (file:///Users/godlikeonline/Library/Caches/deno/npm/registry.npmjs.org/@anthropic-ai/sdk/0.20.8/error.mjs:36:20)",
      "    at Anthropic.makeStatusError (file:///Users/godlikeonline/Library/Caches/deno/npm/registry.npmjs.org/@anthropic-ai/sdk/0.20.8/core.mjs:256:25)",
      "    at Anthropic.makeRequest (file:///Users/godlikeonline/Library/Caches/deno/npm/registry.npmjs.org/@anthropic-ai/sdk/0.20.8/core.mjs:299:30)",
      "    at eventLoopTick (ext:core/01_core.js:168:7)",
      "    at async RetryOperation._fn (file:///Users/godlikeonline/Library/Caches/deno/npm/registry.npmjs.org/p-retry/4.6.2/index.js:50:12)"
     ]
    }
   ],
   "source": [
    "import { ChatAnthropic } from \"@langchain/anthropic\";\n",
    "\n",
    "const model = new ChatAnthropic({\n",
    "  temperature: 0.9,\n",
    "  model: \"claude-2.1\",\n",
    "  // In Node.js defaults to process.env.ANTHROPIC_API_KEY,\n",
    "  apiKey: \"\",\n",
    "  maxTokens: 1024,\n",
    "});\n",
    "\n",
    "const res = await model.invoke(\"Why is the sky blue?\");\n",
    "\n",
    "console.log(res);"
   ]
  },
  {
   "cell_type": "code",
   "execution_count": null,
   "id": "0e797d3a-0400-4171-962b-b46232f4cad2",
   "metadata": {},
   "outputs": [],
   "source": []
  }
 ],
 "metadata": {
  "kernelspec": {
   "display_name": "Deno",
   "language": "typescript",
   "name": "deno"
  },
  "language_info": {
   "file_extension": ".ts",
   "mimetype": "text/x.typescript",
   "name": "typescript",
   "nb_converter": "script",
   "pygments_lexer": "typescript",
   "version": "5.4.3"
  }
 },
 "nbformat": 4,
 "nbformat_minor": 5
}
