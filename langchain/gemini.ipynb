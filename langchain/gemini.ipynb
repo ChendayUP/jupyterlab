{
 "cells": [
  {
   "cell_type": "code",
   "execution_count": 1,
   "id": "2df90bf1-fa69-405f-9ccb-1b61e553562c",
   "metadata": {},
   "outputs": [],
   "source": [
    "import { ChatGoogleGenerativeAI } from \"@langchain/google-genai\";\n",
    "import { PromptTemplate } from '@langchain/core/prompts';\n",
    "import { LLMChain } from 'langchain/chains';"
   ]
  },
  {
   "cell_type": "code",
   "execution_count": 2,
   "id": "c68d5acf-e99c-4c61-a61d-f8531ffa87b2",
   "metadata": {},
   "outputs": [],
   "source": [
    "const template = `请用中文回答\n",
    "{context}\n",
    "`;\n",
    "\n",
    "const promptTemplate = new PromptTemplate({\n",
    "  template,\n",
    "  inputVariables: ['context'],\n",
    "});"
   ]
  },
  {
   "cell_type": "code",
   "execution_count": 3,
   "id": "e15e02b0-6459-45e8-b048-db2d11267e28",
   "metadata": {},
   "outputs": [
    {
     "ename": "Error",
     "evalue": "Please set an API key for Google GenerativeAI in the environment variable GOOGLE_API_KEY or in the `apiKey` field of the ChatGoogleGenerativeAI constructor",
     "output_type": "error",
     "traceback": [
      "Stack trace:",
      "Error: Please set an API key for Google GenerativeAI in the environment variable GOOGLE_API_KEY or in the `apiKey` field of the ChatGoogleGenerativeAI constructor",
      "    at new ChatGoogleGenerativeAI (file:///C:/Users/Administrator/AppData/Local/deno/npm/registry.npmjs.org/@langchain/google-genai/0.0.16/dist/chat_models.js:151:19)",
      "    at <anonymous>:3:21"
     ]
    }
   ],
   "source": [
    "// const geminiModel = new ChatGoogleGenerativeAI({\n",
    "//   // modelName: 'gemini-1.5-pro-001',\n",
    "//      modelName: \"gemini-1.5-flash-latest\",\n",
    "//   apiVersion: \"v1beta\",\n",
    "//   platformType: \"gai\",\n",
    "//     apiKey: ''\n",
    "// });\n",
    "\n",
    "const baseUrl = 'https://generativelanguage.googleapis.com';\n",
    "const version = 'v1beta';\n",
    "const geminiModel = new ChatGoogleGenerativeAI({\n",
    "    model: 'gemini-1.5-flash-latest',\n",
    "    apiKey: '',\n",
    "    apiVersion: version,\n",
    "    maxRetries: 0,\n",
    "    baseUrl,\n",
    "});"
   ]
  },
  {
   "cell_type": "code",
   "execution_count": 4,
   "id": "b9112bbf-1cb2-4185-bd84-8a729230d123",
   "metadata": {},
   "outputs": [
    {
     "ename": "ReferenceError",
     "evalue": "geminiModel is not defined",
     "output_type": "error",
     "traceback": [
      "Stack trace:",
      "ReferenceError: geminiModel is not defined",
      "    at <anonymous>:2:8"
     ]
    }
   ],
   "source": [
    "const llmChain = new LLMChain({\n",
    "  llm: geminiModel,\n",
    "  prompt: promptTemplate,\n",
    "});\n",
    "\n",
    "// variable name in the template earlier created.\n",
    "const result = await llmChain.call({\n",
    "  context: '你是gemini的哪个版本',\n",
    "});\n",
    "\n",
    "// Log result to the console\n",
    "console.log(result.text);"
   ]
  },
  {
   "cell_type": "code",
   "execution_count": 5,
   "id": "db5ce2d6-1e1a-409f-9322-3df74295d1d5",
   "metadata": {},
   "outputs": [
    {
     "ename": "ReferenceError",
     "evalue": "llmChain is not defined",
     "output_type": "error",
     "traceback": [
      "Stack trace:",
      "ReferenceError: llmChain is not defined",
      "    at <anonymous>:1:37"
     ]
    }
   ],
   "source": [
    "const result = await llmChain.call({\n",
    "  context: 'gemini-pro 1.5新增加了哪些功能',\n",
    "});\n",
    "\n",
    "// Log result to the console\n",
    "console.log(result.text);"
   ]
  },
  {
   "cell_type": "code",
   "execution_count": null,
   "id": "0a3ee57d-6170-4ea5-b8df-ace9be9f250c",
   "metadata": {},
   "outputs": [],
   "source": []
  }
 ],
 "metadata": {
  "kernelspec": {
   "display_name": "Deno",
   "language": "typescript",
   "name": "deno"
  },
  "language_info": {
   "file_extension": ".ts",
   "mimetype": "text/x.typescript",
   "name": "typescript",
   "nb_converter": "script",
   "pygments_lexer": "typescript",
   "version": "5.4.3"
  }
 },
 "nbformat": 4,
 "nbformat_minor": 5
}
